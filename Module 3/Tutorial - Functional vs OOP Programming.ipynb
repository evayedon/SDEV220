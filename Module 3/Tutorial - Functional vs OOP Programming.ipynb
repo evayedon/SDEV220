{
 "cells": [
  {
   "cell_type": "markdown",
   "metadata": {},
   "source": [
    "Given an array arr[] containing only 0s, 1s, and 2s. Sort the array in ascending order.\n",
    "Examples:\n",
    "\n",
    "Input: arr[] = [0, 1, 2, 0, 1, 2]\n",
    "Output: [0, 0, 1, 1, 2, 2]"
   ]
  },
  {
   "cell_type": "code",
   "execution_count": null,
   "metadata": {},
   "outputs": [
    {
     "name": "stdout",
     "output_type": "stream",
     "text": [
      "[0, 0, 0, 1, 1, 1, 2, 2, 2]\n"
     ]
    }
   ],
   "source": [
    "def sort012(arr):\n",
    "    low = 0\n",
    "    high = len(arr) - 1\n",
    "    mid = 0\n",
    "    while mid <= high:\n",
    "        if arr[mid] == 0:\n",
    "            arr[low], arr[mid] = arr[mid], arr[low]\n",
    "            low = low + 1\n",
    "            mid = mid + 1\n",
    "        elif arr[mid] == 1:\n",
    "            mid = mid + 1\n",
    "        else:\n",
    "            arr[mid], arr[high] = arr[high], arr[mid]\n",
    "            high = high - 1\n",
    "    return arr\n",
    "\n",
    "\n",
    "print(sort012([0, 1, 2, 0, 1, 2, 0, 1, 2])\n",
    ")"
   ]
  },
  {
   "cell_type": "markdown",
   "metadata": {},
   "source": [
    "Given a sorted array arr and an integer k, find the position(0-based indexing) at which k is present in the array using binary search.\n",
    "(https://practice.geeksforgeeks.org/problems/binary-search-1587115620/1?utm_source=geeksforgeeks&utm_medium=article_practice_tab&utm_campaign=article_practice_tab)"
   ]
  },
  {
   "cell_type": "code",
   "execution_count": 2,
   "metadata": {},
   "outputs": [
    {
     "name": "stdout",
     "output_type": "stream",
     "text": [
      "5\n",
      "-1\n"
     ]
    }
   ],
   "source": [
    "def binarysearch(arr, k):\n",
    "    for i in range(len(arr)):\n",
    "        if k == arr[i]:\n",
    "            return i\n",
    "    return -1\n",
    "\n",
    "print(binarysearch([0, 1, 2, 3, 4, 5, 6, 7, 8, 9], 5)\n",
    ")\n",
    "print(binarysearch([0, 1, 2, 3, 4, 5, 6, 7, 8, 9], 10)\n",
    ")"
   ]
  }
 ],
 "metadata": {
  "kernelspec": {
   "display_name": "Python 3",
   "language": "python",
   "name": "python3"
  },
  "language_info": {
   "codemirror_mode": {
    "name": "ipython",
    "version": 3
   },
   "file_extension": ".py",
   "mimetype": "text/x-python",
   "name": "python",
   "nbconvert_exporter": "python",
   "pygments_lexer": "ipython3",
   "version": "3.13.1"
  }
 },
 "nbformat": 4,
 "nbformat_minor": 2
}
